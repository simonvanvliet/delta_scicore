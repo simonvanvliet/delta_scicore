{
 "cells": [
  {
   "cell_type": "markdown",
   "metadata": {},
   "source": [
    "# Download Model and Data\n",
    "\n",
    "Here we will use the Delta2 package to segment and track timelapse data of microcolonies using a deep learning based workflow.  \n",
    "You can find extensive documentation on Delta [here](https://delta.readthedocs.io).\n",
    "\n",
    "Delta comes with a pre-trained model (i.e. network) that we can use as a first step.  \n",
    "Here we download this model using `delta` build in methods. \n",
    "\n",
    "We also will download the data we will analyze in the next steps."
   ]
  },
  {
   "cell_type": "code",
   "execution_count": 3,
   "metadata": {},
   "outputs": [],
   "source": [
    "#import packages\n",
    "import pathlib\n",
    "import delta"
   ]
  },
  {
   "cell_type": "markdown",
   "metadata": {},
   "source": [
    "---"
   ]
  },
  {
   "cell_type": "markdown",
   "metadata": {},
   "source": [
    "## Setup Folders\n",
    "Now we set path to where we will store the  data, and create the relevant sub-folders.  \n",
    "For this we use [`pathlibs.mkdir`](https://docs.python.org/3/library/pathlib.html#methods-and-properties) command."
   ]
  },
  {
   "cell_type": "code",
   "execution_count": 4,
   "metadata": {},
   "outputs": [],
   "source": [
    "root = pathlib.Path(pathlib.Path.home(), 'home')\n",
    "proj_dir = root / 'delta'\n",
    "proj_dir.mkdir(exist_ok=True)\n",
    "model_dir = proj_dir / 'models'\n",
    "\n",
    "#make folders\n",
    "model_dir.mkdir(exist_ok=True)"
   ]
  },
  {
   "cell_type": "markdown",
   "metadata": {},
   "source": [
    "We can check if the folder are created by running ls in the command line.  \n",
    "\n",
    "Note: you can run command line commands directly from within Jupyter Labs by placing a `!` in front of the line.  \n",
    "You can pass variables from Python to the command line by adding a `$` before the variable name."
   ]
  },
  {
   "cell_type": "code",
   "execution_count": 5,
   "metadata": {},
   "outputs": [
    {
     "name": "stdout",
     "output_type": "stream",
     "text": [
      "folders in project dir:\n",
      "\u001b[34mProcessedData\u001b[m\u001b[m        config_2D.json       \u001b[34mmodels\u001b[m\u001b[m\n",
      "\u001b[34mRawData\u001b[m\u001b[m              config_2D_local.json\n"
     ]
    }
   ],
   "source": [
    "print('folders in project dir:')\n",
    "!ls $proj_dir"
   ]
  },
  {
   "cell_type": "markdown",
   "metadata": {},
   "source": [
    "---"
   ]
  },
  {
   "cell_type": "markdown",
   "metadata": {},
   "source": [
    "## Download Model\n",
    "\n",
    "Now we can download the pre-trained model using [`delta.assets.download_assets`](https://delta.readthedocs.io/en/latest/usage/assets_desc.html)."
   ]
  },
  {
   "cell_type": "markdown",
   "metadata": {},
   "source": [
    "*Technical note: `delta` needs paths specified as strings, we thus need to convert a `PosixPath` object (the format in which `pathlib` stores paths) to a string by calling the `.resolve()` method and concerting to string using `str()`.  \n",
    "We can make a quick function to do this:*"
   ]
  },
  {
   "cell_type": "code",
   "execution_count": 6,
   "metadata": {},
   "outputs": [],
   "source": [
    "def to_str(posixpath):\n",
    "    return str(posixpath.resolve())    "
   ]
  },
  {
   "cell_type": "code",
   "execution_count": 4,
   "metadata": {},
   "outputs": [
    {
     "ename": "NameError",
     "evalue": "name 'delta' is not defined",
     "output_type": "error",
     "traceback": [
      "\u001b[0;31m---------------------------------------------------------------------------\u001b[0m",
      "\u001b[0;31mNameError\u001b[0m                                 Traceback (most recent call last)",
      "Input \u001b[0;32mIn [4]\u001b[0m, in \u001b[0;36m<cell line: 1>\u001b[0;34m()\u001b[0m\n\u001b[0;32m----> 1\u001b[0m \u001b[43mdelta\u001b[49m\u001b[38;5;241m.\u001b[39massets\u001b[38;5;241m.\u001b[39mdownload_assets(\n\u001b[1;32m      2\u001b[0m     load_models\u001b[38;5;241m=\u001b[39mto_str(model_dir),\n\u001b[1;32m      3\u001b[0m     load_sets\u001b[38;5;241m=\u001b[39m\u001b[38;5;28;01mFalse\u001b[39;00m,\n\u001b[1;32m      4\u001b[0m     load_evals\u001b[38;5;241m=\u001b[39m\u001b[38;5;28;01mFalse\u001b[39;00m,\n\u001b[1;32m      5\u001b[0m     config_level\u001b[38;5;241m=\u001b[39mto_str(proj_dir)\n\u001b[1;32m      6\u001b[0m )\n",
      "\u001b[0;31mNameError\u001b[0m: name 'delta' is not defined"
     ]
    }
   ],
   "source": [
    "delta.assets.download_assets(\n",
    "    load_models=to_str(model_dir),\n",
    "    load_sets=False,\n",
    "    load_evals=False,\n",
    "    config_level=False\n",
    ")"
   ]
  },
  {
   "cell_type": "markdown",
   "metadata": {},
   "source": [
    "Delta comes with a number of different pre-trained network:"
   ]
  },
  {
   "cell_type": "code",
   "execution_count": 5,
   "metadata": {},
   "outputs": [
    {
     "name": "stdout",
     "output_type": "stream",
     "text": [
      "unet_moma_seg.hdf5         unet_pads_seg.hdf5\n",
      "unet_moma_track.hdf5       unet_pads_track.hdf5\n",
      "unet_momachambers_seg.hdf5\n"
     ]
    }
   ],
   "source": [
    "model_dir = proj_dir / 'models'\n",
    "!ls $model_dir"
   ]
  },
  {
   "cell_type": "markdown",
   "metadata": {},
   "source": [
    "There are models for 1D mother machine data (called `moma`) and for 2D microcolony data (called `pads`). For each data type there are two models: one for segmentation and one for tracking."
   ]
  }
 ],
 "metadata": {
  "kernelspec": {
   "display_name": "Python 3.9.13 ('cdg_env')",
   "language": "python",
   "name": "python3"
  },
  "language_info": {
   "codemirror_mode": {
    "name": "ipython",
    "version": 3
   },
   "file_extension": ".py",
   "mimetype": "text/x-python",
   "name": "python",
   "nbconvert_exporter": "python",
   "pygments_lexer": "ipython3",
   "version": "3.9.13"
  },
  "vscode": {
   "interpreter": {
    "hash": "6f56a937569668ab65cc2fce89bf73837731fe29bf5b04beb0a684b94d597c4c"
   }
  }
 },
 "nbformat": 4,
 "nbformat_minor": 4
}
